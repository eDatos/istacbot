{
 "cells": [
  {
   "cell_type": "code",
   "execution_count": 10,
   "metadata": {},
   "outputs": [],
   "source": [
    "import requests\n",
    "import json"
   ]
  },
  {
   "cell_type": "code",
   "execution_count": 19,
   "metadata": {},
   "outputs": [],
   "source": [
    "URL = \"https://www3.gobiernodecanarias.org/istac/api/indicators/v1.0/indicators/?limit=1000\"\n",
    "response = requests.get(URL).json()\n",
    "indicators = {}"
   ]
  },
  {
   "cell_type": "code",
   "execution_count": 21,
   "metadata": {},
   "outputs": [],
   "source": [
    "for indicator in response['items']:\n",
    "    indicators[indicator['title']['es']] = indicator['id']"
   ]
  },
  {
   "cell_type": "code",
   "execution_count": 22,
   "metadata": {
    "scrolled": false
   },
   "outputs": [
    {
     "data": {
      "text/plain": [
       "{'Afiliaciones a la Seguridad Social': 'AFILIACIONES',\n",
       " 'Venta mayor de cemento': 'CEMENTO_VENTAS',\n",
       " 'Empleo registrado. Agricultura': 'EMPLEO_REGISTRADO_AGRICULTURA',\n",
       " 'Empleo registrado. Hostelería': 'EMPLEO_REGISTRADO_HOSTELERIA',\n",
       " 'Empleo registrado. Industria': 'EMPLEO_REGISTRADO_INDUSTRIA',\n",
       " 'Empleo registrado. Servicios': 'EMPLEO_REGISTRADO_SERVICIOS',\n",
       " 'Población inactiva': 'POBLACION_INACTIVA',\n",
       " 'Población inactiva. Hombres': 'POBLACION_INACTIVA_HOMBRES',\n",
       " 'Población inactiva. Mujeres': 'POBLACION_INACTIVA_MUJERES',\n",
       " 'Tasa de actividad': 'TASA_ACTIVIDAD',\n",
       " 'Tasa de actividad. Hombres': 'TASA_ACTIVIDAD_HOMBRES',\n",
       " 'Tasa de actividad. Mujeres': 'TASA_ACTIVIDAD_MUJERES',\n",
       " 'Tasa de empleo': 'TASA_EMPLEO',\n",
       " 'Tasa de empleo. Hombres': 'TASA_EMPLEO_HOMBRES',\n",
       " 'Tasa de empleo. Mujeres': 'TASA_EMPLEO_MUJERES',\n",
       " 'Tasa de paro': 'TASA_PARO',\n",
       " 'Tasa de paro. Hombres': 'TASA_PARO_HOMBRES',\n",
       " 'Tasa de paro. Mujeres': 'TASA_PARO_MUJERES',\n",
       " 'Paro registrado': 'PARO_REGISTRADO',\n",
       " 'Paro registrado. Hombres': 'PARO_REGISTRADO_HOMBRES',\n",
       " 'Paro registrado. Mujeres': 'PARO_REGISTRADO_MUJERES',\n",
       " 'Nacimientos': 'NACIMIENTOS',\n",
       " 'Defunciones': 'DEFUNCIONES',\n",
       " 'Población. Edad media': 'POBLACION_EDAD_MEDIA',\n",
       " 'Población. De 0 a 14 años (% sobre total)': 'POBLACION_00A14_PC',\n",
       " 'Población. De 65 o más años (% sobre total)': 'POBLACION_65MAS_PC',\n",
       " 'Defunciones. Mujeres': 'DEFUNCIONES_MUJERES',\n",
       " 'Nacimientos. Hombres': 'NACIMIENTOS_HOMBRES',\n",
       " 'Nacimientos. Mujeres': 'NACIMIENTOS_MUJERES',\n",
       " 'Pernoctaciones en alojamientos turísticos': 'ALOJATUR_PERNOCTACIONES',\n",
       " 'Plazas ofertadas por alojamientos turísticos': 'ALOJATUR_PLAZAS_OFERTADAS',\n",
       " 'Población': 'POBLACION',\n",
       " 'Población. De 0 a 14 años': 'POBLACION_00A14',\n",
       " 'Población. De 15 a 64 años': 'POBLACION_15A64',\n",
       " 'Población. Hombres de 15 a 64 años': 'POBLACION_HOMBRES_15A64',\n",
       " 'Población. De 65 o más años': 'POBLACION_65MAS',\n",
       " 'Población. Hombres': 'POBLACION_HOMBRES',\n",
       " 'Población. Mujeres': 'POBLACION_MUJERES',\n",
       " 'Población. Hombres de 0 a 14 años': 'POBLACION_HOMBRES_00A14',\n",
       " 'Población. Mujeres de 0 a 14 años': 'POBLACION_MUJERES_00A14',\n",
       " 'Población. Mujeres de 65 o más años': 'POBLACION_MUJERES_65MAS',\n",
       " 'Matriculación de vehículos': 'MATRICULA_VEHICULOS',\n",
       " 'Matriculación de vehículos. Turismos': 'MATRICULA_VEHICULOS_TURISMOS',\n",
       " 'Policía Local. Efectivos': 'POLICIA_LOCAL_EFECTIVOS',\n",
       " 'Viajeros entrados en alojamientos turísticos': 'ALOJATUR_VIAJEROS_ENTRADOS',\n",
       " 'Empleo registrado. Cabildos': 'EMPLEO_REGISTRADO_CABILDOS',\n",
       " 'Empleo registrado por cada 1.000 habitantes. Cabildos': 'EMPLEO_REGISTRADO_CABILDOS_HAB',\n",
       " 'IRPF. Base Imponible por declarante': 'TRIBUTO_IRPF_BASE_IMPONIBLE_DECLARANTE',\n",
       " 'IBI. Cuota líquida. Urbanos': 'TRIBUTO_IBI_CUOTA_LIQUIDA_URBANO',\n",
       " 'IBI. Cuota líquida. Rústicos': 'TRIBUTO_IBI_CUOTA_LIQUIDA_RUSTICO',\n",
       " 'Presupuesto liquidado. Gastos por habitante. Ayuntamientos': 'PRESUPUESTO_AYUNTAMIENTOS_LIQUIDADO_GASTO_HABITANTE',\n",
       " 'Presupuesto liquidado. Ingresos por habitante. Ayuntamientos': 'PRESUPUESTO_AYUNTAMIENTOS_LIQUIDADO_INGRESO_HABITANTE',\n",
       " 'Presupuesto liquidado. Ingresos fiscales por habitante. Ayuntamientos': 'PRESUPUESTO_AYUNTAMIENTOS_LIQUIDADO_INGRESO_FISCAL_HABITANTE',\n",
       " 'Presupuesto liquidado. Gastos por habitante. Cabildos': 'PRESUPUESTO_CABILDOS_LIQUIDADO_GASTO_HABITANTE',\n",
       " 'Presupuesto liquidado. Ingresos por habitante. Cabildos': 'PRESUPUESTO_CABILDOS_LIQUIDADO_INGRESO_HABITANTE',\n",
       " 'Presupuesto liquidado. Ingresos fiscales por habitante. Cabildos': 'PRESUPUESTO_CABILDOS_LIQUIDADO_INGRESO_FISCAL_HABITANTE',\n",
       " 'Población. Hombres de 65 o más años': 'POBLACION_HOMBRES_65MAS',\n",
       " 'Población. Mujeres de 15 a 64 años': 'POBLACION_MUJERES_15A64',\n",
       " 'Matrimonios. Entre cónyuges de diferente sexo': 'MATRIMONIOS_SEXO_DIFERENTE',\n",
       " 'Defunciones. Hombres': 'DEFUNCIONES_HOMBRES',\n",
       " 'Migraciones. Saldo migratorio': 'MIGRACIONES_SALDO',\n",
       " 'Migraciones. Saldo migratorio. Hombres': 'MIGRACIONES_SALDO_HOMBRES',\n",
       " 'Migraciones. Saldo migratorio. Mujeres': 'MIGRACIONES_SALDO_MUJERES',\n",
       " 'Policía Local. Efectivos por cada 1.000 habitantes': 'POLICIA_LOCAL_EFECTIVOS_HABITANTE',\n",
       " 'Parque de vehículos': 'PARQUE_VEHICULOS',\n",
       " 'Parque de vehículos. Turismos': 'PARQUE_VEHICULOS_TURISMOS',\n",
       " 'Tráfico aéreo comercial. Movimiento de mercancías': 'TRAFICO_AEREO_MERCANCIAS',\n",
       " 'Superficie cultivada': 'SUPERFICIE_CULTIVO',\n",
       " 'Superficie cultivada. Regadío': 'SUPERFICIE_CULTIVO_REGADIO',\n",
       " 'Superficie cultivada. Cultivos herbáceos': 'SUPERFICIE_CULTIVO_HERBACEOS',\n",
       " 'Superficie cultivada. Cultivos leñosos': 'SUPERFICIE_CULTIVO_LENOSOS',\n",
       " 'Tasa bruta de mortalidad': 'TASA_MORTALIDAD',\n",
       " 'Población parada': 'POBLACION_PARADA',\n",
       " 'Población parada. Hombres': 'POBLACION_PARADA_HOMBRES',\n",
       " 'Población parada. Mujeres': 'POBLACION_PARADA_MUJERES',\n",
       " 'Población ocupada': 'POBLACION_OCUPADA',\n",
       " 'Población ocupada. Hombres': 'POBLACION_OCUPADA_HOMBRES',\n",
       " 'Población ocupada. Mujeres': 'POBLACION_OCUPADA_MUJERES',\n",
       " 'Población turística equivalente en alojamientos turísticos': 'ALOJATUR_POBLACION_TUR_ETC',\n",
       " 'Empleo registrado. Ayuntamientos': 'EMPLEO_REGISTRADO_AYUNTAMIENTOS',\n",
       " 'Empleo registrado por cada 1.000 habitantes. Ayuntamientos': 'EMPLEO_REGISTRADO_AYUNTAMIENTOS_HAB',\n",
       " 'Parque de vehículos por cada 1.000 habitantes': 'PARQUE_VEHICULOS_HABITANTE',\n",
       " 'Parque de vehículos por cada 1.000 habitantes. Turismos': 'PARQUE_VEHICULOS_TURISMOS_HABITANTE',\n",
       " 'Tráfico aéreo comercial. Movimiento de aeronaves': 'TRAFICO_AEREO_AVIONES',\n",
       " 'Tráfico aéreo comercial. Movimiento de pasajeros': 'TRAFICO_AEREO_PASAJEROS',\n",
       " 'Superficie cultivada. Secano': 'SUPERFICIE_CULTIVO_SECANO',\n",
       " 'Superficie': 'SUPERFICIE',\n",
       " 'Alojamientos turísticos abiertos': 'ALOJATUR_ABIERTOS',\n",
       " 'Empleo registrado. Comercio': 'EMPLEO_REGISTRADO_COMERCIO',\n",
       " 'Empleo registrado. Construcción': 'EMPLEO_REGISTRADO_CONSTRUCCION',\n",
       " 'Población activa': 'POBLACION_ACTIVA',\n",
       " 'Población activa. Hombres': 'POBLACION_ACTIVA_HOMBRES',\n",
       " 'Población activa. Mujeres': 'POBLACION_ACTIVA_MUJERES',\n",
       " 'Afiliaciones a la Seguridad Social. Hombres': 'AFILIACIONES_HOMBRES',\n",
       " 'Afiliaciones a la Seguridad Social. Mujeres': 'AFILIACIONES_MUJERES',\n",
       " 'Afiliaciones a la Seguridad Social. Empleos asalariados. Hombres': 'AFILIACIONES_ASALARIADOS_HOMBRES',\n",
       " 'Afiliaciones a la Seguridad Social. Empleos asalariados': 'AFILIACIONES_ASALARIADOS',\n",
       " 'Afiliaciones a la Seguridad Social. Empleos asalariados. Mujeres': 'AFILIACIONES_ASALARIADOS_MUJERES',\n",
       " 'Afiliaciones a la Seguridad Social. Empleos autónomos': 'AFILIACIONES_AUTONOMOS',\n",
       " 'Afiliaciones a la Seguridad Social. Empleos autónomos. Hombres': 'AFILIACIONES_AUTONOMOS_HOMBRES',\n",
       " 'Afiliaciones a la Seguridad Social. Empleos autónomos. Mujeres': 'AFILIACIONES_AUTONOMOS_MUJERES',\n",
       " 'Índice de precios de consumo (IPC). Subyacente': 'IPC_SUBYACENTE',\n",
       " 'Tasa bruta de mortalidad. Hombres': 'TASA_MORTALIDAD_HOMBRES',\n",
       " 'Tasa bruta de mortalidad. Mujeres': 'TASA_MORTALIDAD_MUJERES',\n",
       " 'Comercio exterior. Importaciones en peso': 'COMERCIO_EXTERIOR_IMPORTACIONES_PESO',\n",
       " 'Comercio exterior. Importaciones en valor': 'COMERCIO_EXTERIOR_IMPORTACIONES_VALOR',\n",
       " 'Comercio exterior. Exportaciones en peso': 'COMERCIO_EXTERIOR_EXPORTACIONES_PESO',\n",
       " 'Comercio exterior. Exportaciones en valor': 'COMERCIO_EXTERIOR_EXPORTACIONES_VALOR',\n",
       " 'Comercio exterior. Déficit comercial': 'COMERCIO_EXTERIOR_DEFICIT_COMERCIAL',\n",
       " 'Comercio exterior. Tasa de cobertura': 'COMERCIO_EXTERIOR_TASA_COBERTURA',\n",
       " 'PIB a precios corrientes': 'PIB_PM_CORRIENTE',\n",
       " 'Energía eléctrica. Disponible': 'ENERGIA_ELECTRICA_DISPONIBLE',\n",
       " 'Coste laboral. Por trabajador y mes': 'COSTE_LABORAL_TRABAJADOR',\n",
       " 'Coste laboral. Por hora efectiva de trabajo': 'COSTE_LABORAL_HORA',\n",
       " 'Hipotecas constituidas': 'HIPOTECAS_CONSTITUIDAS',\n",
       " 'Hipotecas constituidas. Importe': 'HIPOTECAS_CONSTITUIDAS_IMPORTE',\n",
       " 'Hipotecas canceladas': 'HIPOTECAS_CANCELADAS',\n",
       " 'Índice de volumen encadenado del PIB (variaciones reales)': 'PIB_PM_VOLUMEN',\n",
       " 'Sociedades mercantiles. Creadas': 'SOCIEDADES_MERCANTILES_CREADAS',\n",
       " 'Sociedades mercantiles. Creadas. Capital suscrito': 'SOCIEDADES_MERCANTILES_CREADAS_CAPITAL',\n",
       " 'Sociedades mercantiles. Amplian capital': 'SOCIEDADES_MERCANTILES_AMPLIADAS',\n",
       " 'Sociedades mercantiles. Amplian capital. Capital suscrito': 'SOCIEDADES_MERCANTILES_AMPLIADAS_CAPITAL',\n",
       " 'Licitación oficial en construcción': 'LICITACION_OFICIAL',\n",
       " 'Licitación oficial en construcción. Edificación': 'LICITACION_OFICIAL_EDIFICACION',\n",
       " 'Licitación oficial en construcción. Ingeniería civil': 'LICITACION_OFICIAL_INGENIERIA_CIVIL',\n",
       " 'Afiliaciones a la Seguridad Social. Industria': 'AFILIACIONES_INDUSTRIA',\n",
       " 'Afiliaciones a la Seguridad Social. Construcción': 'AFILIACIONES_CONSTRUCCION',\n",
       " 'Afiliaciones a la Seguridad Social. Servicios': 'AFILIACIONES_SERVICIOS',\n",
       " 'Afiliaciones a la Seguridad Social. Agricultura': 'AFILIACIONES_AGRICULTURA',\n",
       " 'Accidentes de trabajo con baja': 'ACCIDENTES_TRABAJO_BAJA',\n",
       " 'Accidentes de trabajo con baja. Jornadas no trabajadas': 'ACCIDENTES_TRABAJO_BAJA_JORNADAS',\n",
       " 'Empresas inscritas en la Seguridad Social. Agricultura': 'EMPRESAS_SEGURIDAD_SOCIAL_AGRICULTURA',\n",
       " 'Empresas inscritas en la Seguridad Social. Industria': 'EMPRESAS_SEGURIDAD_SOCIAL_INDUSTRIA',\n",
       " 'Empresas inscritas en la Seguridad Social. Construcción': 'EMPRESAS_SEGURIDAD_SOCIAL_CONSTRUCCION',\n",
       " 'Empresas inscritas en la Seguridad Social. Servicios': 'EMPRESAS_SEGURIDAD_SOCIAL_SERVICIOS',\n",
       " 'Visados de obra. Viviendas': 'VISADOS_OBRA_VIVIENDAS',\n",
       " 'Visados de obra. Viviendas de obra nueva': 'VISADOS_OBRA_VIVIENDAS_NUEVAS',\n",
       " 'Vivienda libre. Precio del metro cuadrado': 'VIVIENDA_LIBRE_PRECIO_M2',\n",
       " 'Vivienda protegida. Precio del metro cuadrado': 'VIVIENDA_PROTEGIDA_PRECIO_M2',\n",
       " 'Empresas inscritas en la Seguridad Social': 'EMPRESAS_SEGURIDAD_SOCIAL',\n",
       " 'IBI. Tipo de gravamen. Rústicos': 'TRIBUTO_IBI_TIPO_GRAVAMEN_RUSTICO',\n",
       " 'IBI. Tipo de gravamen. Urbanos': 'TRIBUTO_IBI_TIPO_GRAVAMEN_URBANO',\n",
       " 'Cabezas de ganado. Bovino': 'GANADO_BOVINO',\n",
       " 'Cabezas de ganado. Caprino': 'GANADO_CAPRINO',\n",
       " 'Cabezas de ganado. Ovino': 'GANADO_OVINO',\n",
       " 'Cabezas de ganado. Porcino': 'GANADO_PORCINO',\n",
       " 'Tasa de ocupación por plazas': 'ALOJATUR_PLAZAS_OCUPACION',\n",
       " 'Gasto turístico': 'GASTO_TURISTICO',\n",
       " 'Gasto medio por turista': 'GASTO_TURISTICO_TURISTA',\n",
       " 'Gasto medio por turista y día': 'GASTO_TURISTICO_TURISTA_DIA',\n",
       " 'Población extranjera': 'POBLACION_EXTRANJERA',\n",
       " 'Población extranjera. Hombres': 'POBLACION_EXTRANJERA_HOMBRES',\n",
       " 'Población extranjera. Mujeres': 'POBLACION_EXTRANJERA_MUJERES',\n",
       " 'Índice de precios industriales (IPRI)': 'IPRI',\n",
       " 'Índice de producción industrial (IPI)': 'IPI',\n",
       " 'Índice de precios de consumo (IPC). General': 'IPC',\n",
       " 'Alumnado no universitario. Enseñanzas de régimen general': 'ALUMNADO_NO_UNIVERSITARIO_REGIMEN_GENERAL',\n",
       " 'Alumnado no universitario. Educación primaria': 'ALUMNADO_NO_UNIVERSITARIO_REGIMEN_GENERAL_PRIMARIA',\n",
       " 'Alumnado no universitario. Educación secundaria obligatoria (E.S.O.)': 'ALUMNADO_NO_UNIVERSITARIO_REGIMEN_GENERAL_ESO',\n",
       " 'Alumnado no universitario. Centros públicos. Enseñanzas de régimen general': 'ALUMNADO_NO_UNIVERSITARIO_PUBLICOS_REGIMEN_GENERAL',\n",
       " 'Alumnado no universitario. Centros privados concertados. Enseñanzas de régimen general': 'ALUMNADO_NO_UNIVERSITARIO_CONCERTADOS_REGIMEN_GENERAL',\n",
       " 'Alumnado no universitario. Centros privados no concertados. Enseñanzas de régimen general': 'ALUMNADO_NO_UNIVERSITARIO_NO_CONCERTADOS_REGIMEN_GENERAL',\n",
       " 'Alumnado no universitario. Educación infantil': 'ALUMNADO_NO_UNIVERSITARIO_REGIMEN_GENERAL_INFANTIL',\n",
       " 'Índice de cifra de negocios (IASS). Servicios': 'IASS_CIFRA_NEGOCIO',\n",
       " 'Índice de ocupación (IASS). Servicios': 'IASS_OCUPACION',\n",
       " 'Comercio exterior. Importaciones en peso. Productos agrícolas': 'COMERCIO_EXTERIOR_IMPORTACIONES_PESO_AGRICOLAS',\n",
       " 'Comercio exterior. Importaciones en valor. Productos agrícolas': 'COMERCIO_EXTERIOR_IMPORTACIONES_VALOR_AGRICOLAS',\n",
       " 'Comercio exterior. Exportaciones en peso. Productos agrícolas': 'COMERCIO_EXTERIOR_EXPORTACIONES_PESO_AGRICOLAS',\n",
       " 'Comercio exterior. Exportaciones en valor. Productos agrícolas': 'COMERCIO_EXTERIOR_EXPORTACIONES_VALOR_AGRICOLAS',\n",
       " 'Empleo registrado': 'EMPLEO_REGISTRADO',\n",
       " 'Empleo registrado. Autónomos': 'EMPLEO_REGISTRADO_AUTONOMOS',\n",
       " 'Empleo registrado. Asalariados': 'EMPLEO_REGISTRADO_ASALARIADOS'}"
      ]
     },
     "execution_count": 22,
     "metadata": {},
     "output_type": "execute_result"
    }
   ],
   "source": [
    "indicators"
   ]
  },
  {
   "cell_type": "code",
   "execution_count": 23,
   "metadata": {},
   "outputs": [
    {
     "data": {
      "text/plain": [
       "172"
      ]
     },
     "execution_count": 23,
     "metadata": {},
     "output_type": "execute_result"
    }
   ],
   "source": [
    "len(indicators)"
   ]
  },
  {
   "cell_type": "code",
   "execution_count": 24,
   "metadata": {},
   "outputs": [],
   "source": []
  },
  {
   "cell_type": "code",
   "execution_count": null,
   "metadata": {},
   "outputs": [],
   "source": []
  },
  {
   "cell_type": "code",
   "execution_count": null,
   "metadata": {},
   "outputs": [],
   "source": []
  },
  {
   "cell_type": "code",
   "execution_count": null,
   "metadata": {},
   "outputs": [],
   "source": []
  },
  {
   "cell_type": "code",
   "execution_count": null,
   "metadata": {},
   "outputs": [],
   "source": []
  },
  {
   "cell_type": "code",
   "execution_count": null,
   "metadata": {},
   "outputs": [],
   "source": []
  },
  {
   "cell_type": "code",
   "execution_count": null,
   "metadata": {},
   "outputs": [],
   "source": []
  }
 ],
 "metadata": {
  "kernelspec": {
   "display_name": "Python 3",
   "language": "python",
   "name": "python3"
  },
  "language_info": {
   "codemirror_mode": {
    "name": "ipython",
    "version": 3
   },
   "file_extension": ".py",
   "mimetype": "text/x-python",
   "name": "python",
   "nbconvert_exporter": "python",
   "pygments_lexer": "ipython3",
   "version": "3.6.5"
  }
 },
 "nbformat": 4,
 "nbformat_minor": 2
}
